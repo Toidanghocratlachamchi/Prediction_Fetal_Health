{
  "cells": [
    {
      "cell_type": "code",
      "execution_count": null,
      "metadata": {
        "colab": {
          "base_uri": "https://localhost:8080/"
        },
        "id": "nr8RIkEL1FbK",
        "outputId": "0803b323-e40d-4381-9798-a6e047344838"
      },
      "outputs": [
        {
          "name": "stdout",
          "output_type": "stream",
          "text": [
            "Looking in indexes: https://pypi.org/simple, https://us-python.pkg.dev/colab-wheels/public/simple/\n",
            "Collecting fastapi\n",
            "  Downloading fastapi-0.95.1-py3-none-any.whl (56 kB)\n",
            "\u001b[2K     \u001b[90m━━━━━━━━━━━━━━━━━━━━━━━━━━━━━━━━━━━━━━━━\u001b[0m \u001b[32m57.0/57.0 kB\u001b[0m \u001b[31m4.8 MB/s\u001b[0m eta \u001b[36m0:00:00\u001b[0m\n",
            "\u001b[?25hRequirement already satisfied: nest-asyncio in /usr/local/lib/python3.10/dist-packages (1.5.6)\n",
            "Collecting pyngrok\n",
            "  Downloading pyngrok-6.0.0.tar.gz (681 kB)\n",
            "\u001b[2K     \u001b[90m━━━━━━━━━━━━━━━━━━━━━━━━━━━━━━━━━━━━━━\u001b[0m \u001b[32m681.2/681.2 kB\u001b[0m \u001b[31m27.5 MB/s\u001b[0m eta \u001b[36m0:00:00\u001b[0m\n",
            "\u001b[?25h  Preparing metadata (setup.py) ... \u001b[?25l\u001b[?25hdone\n",
            "Collecting uvicorn\n",
            "  Downloading uvicorn-0.22.0-py3-none-any.whl (58 kB)\n",
            "\u001b[2K     \u001b[90m━━━━━━━━━━━━━━━━━━━━━━━━━━━━━━━━━━━━━━━━\u001b[0m \u001b[32m58.3/58.3 kB\u001b[0m \u001b[31m5.0 MB/s\u001b[0m eta \u001b[36m0:00:00\u001b[0m\n",
            "\u001b[?25hRequirement already satisfied: pydantic!=1.7,!=1.7.1,!=1.7.2,!=1.7.3,!=1.8,!=1.8.1,<2.0.0,>=1.6.2 in /usr/local/lib/python3.10/dist-packages (from fastapi) (1.10.7)\n",
            "Collecting starlette<0.27.0,>=0.26.1 (from fastapi)\n",
            "  Downloading starlette-0.26.1-py3-none-any.whl (66 kB)\n",
            "\u001b[2K     \u001b[90m━━━━━━━━━━━━━━━━━━━━━━━━━━━━━━━━━━━━━━━━\u001b[0m \u001b[32m66.9/66.9 kB\u001b[0m \u001b[31m7.8 MB/s\u001b[0m eta \u001b[36m0:00:00\u001b[0m\n",
            "\u001b[?25hRequirement already satisfied: PyYAML in /usr/local/lib/python3.10/dist-packages (from pyngrok) (6.0)\n",
            "Requirement already satisfied: click>=7.0 in /usr/local/lib/python3.10/dist-packages (from uvicorn) (8.1.3)\n",
            "Collecting h11>=0.8 (from uvicorn)\n",
            "  Downloading h11-0.14.0-py3-none-any.whl (58 kB)\n",
            "\u001b[2K     \u001b[90m━━━━━━━━━━━━━━━━━━━━━━━━━━━━━━━━━━━━━━━━\u001b[0m \u001b[32m58.3/58.3 kB\u001b[0m \u001b[31m6.7 MB/s\u001b[0m eta \u001b[36m0:00:00\u001b[0m\n",
            "\u001b[?25hRequirement already satisfied: typing-extensions>=4.2.0 in /usr/local/lib/python3.10/dist-packages (from pydantic!=1.7,!=1.7.1,!=1.7.2,!=1.7.3,!=1.8,!=1.8.1,<2.0.0,>=1.6.2->fastapi) (4.5.0)\n",
            "Requirement already satisfied: anyio<5,>=3.4.0 in /usr/local/lib/python3.10/dist-packages (from starlette<0.27.0,>=0.26.1->fastapi) (3.6.2)\n",
            "Requirement already satisfied: idna>=2.8 in /usr/local/lib/python3.10/dist-packages (from anyio<5,>=3.4.0->starlette<0.27.0,>=0.26.1->fastapi) (3.4)\n",
            "Requirement already satisfied: sniffio>=1.1 in /usr/local/lib/python3.10/dist-packages (from anyio<5,>=3.4.0->starlette<0.27.0,>=0.26.1->fastapi) (1.3.0)\n",
            "Building wheels for collected packages: pyngrok\n",
            "  Building wheel for pyngrok (setup.py) ... \u001b[?25l\u001b[?25hdone\n",
            "  Created wheel for pyngrok: filename=pyngrok-6.0.0-py3-none-any.whl size=19867 sha256=a6fd2fc3296d3377cb3ad7547263cebaf70a6e81c08c4688a86c971ace2d731c\n",
            "  Stored in directory: /root/.cache/pip/wheels/5c/42/78/0c3d438d7f5730451a25f7ac6cbf4391759d22a67576ed7c2c\n",
            "Successfully built pyngrok\n",
            "Installing collected packages: pyngrok, h11, uvicorn, starlette, fastapi\n",
            "Successfully installed fastapi-0.95.1 h11-0.14.0 pyngrok-6.0.0 starlette-0.26.1 uvicorn-0.22.0\n"
          ]
        }
      ],
      "source": [
        "! pip install fastapi nest-asyncio pyngrok uvicorn"
      ]
    },
    {
      "cell_type": "code",
      "execution_count": null,
      "metadata": {
        "colab": {
          "base_uri": "https://localhost:8080/"
        },
        "id": "t35uZ4vJp2Ws",
        "outputId": "bb269e86-14f7-4830-af3b-13d214fa1ed6"
      },
      "outputs": [
        {
          "name": "stdout",
          "output_type": "stream",
          "text": [
            "Authtoken saved to configuration file: /root/.ngrok2/ngrok.yml\n"
          ]
        }
      ],
      "source": [
        "# Install ngrok authtoken\n",
        "! ngrok authtoken 2GI8Y8CqUD2ajdbcDk2lOA0wqBv_21nfvEC1LSV7KexZVMNx4"
      ]
    },
    {
      "cell_type": "code",
      "execution_count": null,
      "metadata": {
        "colab": {
          "base_uri": "https://localhost:8080/"
        },
        "id": "iYCs1m4d9fv9",
        "outputId": "10f2f313-5246-49dd-d9e0-f7ad9e70bd30"
      },
      "outputs": [
        {
          "name": "stdout",
          "output_type": "stream",
          "text": [
            "Looking in indexes: https://pypi.org/simple, https://us-python.pkg.dev/colab-wheels/public/simple/\n",
            "Collecting pyspark\n",
            "  Downloading pyspark-3.4.0.tar.gz (310.8 MB)\n",
            "\u001b[2K     \u001b[90m━━━━━━━━━━━━━━━━━━━━━━━━━━━━━━━━━━━━━━━\u001b[0m \u001b[32m310.8/310.8 MB\u001b[0m \u001b[31m4.0 MB/s\u001b[0m eta \u001b[36m0:00:00\u001b[0m\n",
            "\u001b[?25h  Preparing metadata (setup.py) ... \u001b[?25l\u001b[?25hdone\n",
            "Requirement already satisfied: py4j==0.10.9.7 in /usr/local/lib/python3.10/dist-packages (from pyspark) (0.10.9.7)\n",
            "Building wheels for collected packages: pyspark\n",
            "  Building wheel for pyspark (setup.py) ... \u001b[?25l\u001b[?25hdone\n",
            "  Created wheel for pyspark: filename=pyspark-3.4.0-py2.py3-none-any.whl size=311317130 sha256=90ff1ef93d202d96497d20dbcb9bb785c02bc69a5dd365cca897b4ea4466e9fd\n",
            "  Stored in directory: /root/.cache/pip/wheels/7b/1b/4b/3363a1d04368e7ff0d408e57ff57966fcdf00583774e761327\n",
            "Successfully built pyspark\n",
            "Installing collected packages: pyspark\n",
            "Successfully installed pyspark-3.4.0\n"
          ]
        }
      ],
      "source": [
        "%pip install pyspark"
      ]
    },
    {
      "cell_type": "code",
      "execution_count": null,
      "metadata": {
        "colab": {
          "base_uri": "https://localhost:8080/"
        },
        "id": "ucuZbLOUpsSU",
        "outputId": "a3a9e885-a4ac-44b2-86f9-44ea0eb8f514"
      },
      "outputs": [
        {
          "name": "stdout",
          "output_type": "stream",
          "text": [
            "Looking in indexes: https://pypi.org/simple, https://us-python.pkg.dev/colab-wheels/public/simple/\n",
            "Collecting python-multipart\n",
            "  Downloading python_multipart-0.0.6-py3-none-any.whl (45 kB)\n",
            "\u001b[2K     \u001b[90m━━━━━━━━━━━━━━━━━━━━━━━━━━━━━━━━━━━━━━━━\u001b[0m \u001b[32m45.7/45.7 kB\u001b[0m \u001b[31m3.9 MB/s\u001b[0m eta \u001b[36m0:00:00\u001b[0m\n",
            "\u001b[?25hInstalling collected packages: python-multipart\n",
            "Successfully installed python-multipart-0.0.6\n"
          ]
        }
      ],
      "source": [
        "! pip install python-multipart"
      ]
    },
    {
      "cell_type": "code",
      "execution_count": null,
      "metadata": {
        "colab": {
          "base_uri": "https://localhost:8080/"
        },
        "id": "X9wO-rttq3LU",
        "outputId": "cb7c36be-19e3-4d45-f235-8093d526a43a"
      },
      "outputs": [
        {
          "name": "stdout",
          "output_type": "stream",
          "text": [
            "Looking in indexes: https://pypi.org/simple, https://us-python.pkg.dev/colab-wheels/public/simple/\n",
            "Requirement already satisfied: pyngrok in /usr/local/lib/python3.10/dist-packages (6.0.0)\n",
            "Requirement already satisfied: PyYAML in /usr/local/lib/python3.10/dist-packages (from pyngrok) (6.0)\n"
          ]
        }
      ],
      "source": [
        "! pip install pyngrok\n"
      ]
    },
    {
      "cell_type": "code",
      "execution_count": null,
      "metadata": {
        "colab": {
          "base_uri": "https://localhost:8080/"
        },
        "id": "oqwzuIxZyNqb",
        "outputId": "95145a9c-60b5-4a63-82f4-e1f601a18026"
      },
      "outputs": [
        {
          "name": "stdout",
          "output_type": "stream",
          "text": [
            "Looking in indexes: https://pypi.org/simple, https://us-python.pkg.dev/colab-wheels/public/simple/\n",
            "Requirement already satisfied: starlette in /usr/local/lib/python3.10/dist-packages (0.26.1)\n",
            "Requirement already satisfied: anyio<5,>=3.4.0 in /usr/local/lib/python3.10/dist-packages (from starlette) (3.6.2)\n",
            "Requirement already satisfied: idna>=2.8 in /usr/local/lib/python3.10/dist-packages (from anyio<5,>=3.4.0->starlette) (3.4)\n",
            "Requirement already satisfied: sniffio>=1.1 in /usr/local/lib/python3.10/dist-packages (from anyio<5,>=3.4.0->starlette) (1.3.0)\n"
          ]
        }
      ],
      "source": [
        "! pip install starlette\n"
      ]
    },
    {
      "cell_type": "code",
      "execution_count": null,
      "metadata": {
        "id": "OJ20fwdhuCAE"
      },
      "outputs": [],
      "source": [
        "# Disconnect the existing tunnel\n",
        "# ngrok.disconnect(ngrok_tunnel.public_url)"
      ]
    },
    {
      "cell_type": "code",
      "execution_count": null,
      "metadata": {
        "colab": {
          "background_save": true,
          "base_uri": "https://localhost:8080/"
        },
        "id": "Yi0kNwYn1K68",
        "outputId": "17048dea-461c-43a9-d143-9207a10f62b3"
      },
      "outputs": [
        {
          "name": "stderr",
          "output_type": "stream",
          "text": [
            "WARNING:pyngrok.process.ngrok:t=2023-05-13T02:17:20+0000 lvl=warn msg=\"ngrok config file found at legacy location, move to XDG location\" xdg_path=/root/.config/ngrok/ngrok.yml legacy_path=/root/.ngrok2/ngrok.yml\n",
            "WARNING:pyngrok.process.ngrok:t=2023-05-13T02:17:20+0000 lvl=warn msg=\"can't bind default web address, trying alternatives\" obj=web addr=127.0.0.1:4040\n",
            "INFO:     Started server process [544]\n",
            "INFO:     Waiting for application startup.\n",
            "INFO:     Application startup complete.\n",
            "INFO:     Uvicorn running on http://127.0.0.1:8000 (Press CTRL+C to quit)\n"
          ]
        },
        {
          "name": "stdout",
          "output_type": "stream",
          "text": [
            "Public URL: https://e763-35-233-186-195.ngrok-free.app\n",
            "INFO:     58.187.203.196:0 - \"GET / HTTP/1.1\" 500 Internal Server Error\n"
          ]
        },
        {
          "name": "stderr",
          "output_type": "stream",
          "text": [
            "ERROR:    Exception in ASGI application\n",
            "Traceback (most recent call last):\n",
            "  File \"/usr/local/lib/python3.10/dist-packages/uvicorn/protocols/http/h11_impl.py\", line 428, in run_asgi\n",
            "    result = await app(  # type: ignore[func-returns-value]\n",
            "  File \"/usr/local/lib/python3.10/dist-packages/uvicorn/middleware/proxy_headers.py\", line 78, in __call__\n",
            "    return await self.app(scope, receive, send)\n",
            "  File \"/usr/local/lib/python3.10/dist-packages/fastapi/applications.py\", line 276, in __call__\n",
            "    await super().__call__(scope, receive, send)\n",
            "  File \"/usr/local/lib/python3.10/dist-packages/starlette/applications.py\", line 122, in __call__\n",
            "    await self.middleware_stack(scope, receive, send)\n",
            "  File \"/usr/local/lib/python3.10/dist-packages/starlette/middleware/errors.py\", line 184, in __call__\n",
            "    raise exc\n",
            "  File \"/usr/local/lib/python3.10/dist-packages/starlette/middleware/errors.py\", line 162, in __call__\n",
            "    await self.app(scope, receive, _send)\n",
            "  File \"/usr/local/lib/python3.10/dist-packages/starlette/middleware/cors.py\", line 84, in __call__\n",
            "    await self.app(scope, receive, send)\n",
            "  File \"/usr/local/lib/python3.10/dist-packages/starlette/middleware/exceptions.py\", line 79, in __call__\n",
            "    raise exc\n",
            "  File \"/usr/local/lib/python3.10/dist-packages/starlette/middleware/exceptions.py\", line 68, in __call__\n",
            "    await self.app(scope, receive, sender)\n",
            "  File \"/usr/local/lib/python3.10/dist-packages/fastapi/middleware/asyncexitstack.py\", line 21, in __call__\n",
            "    raise e\n",
            "  File \"/usr/local/lib/python3.10/dist-packages/fastapi/middleware/asyncexitstack.py\", line 18, in __call__\n",
            "    await self.app(scope, receive, send)\n",
            "  File \"/usr/local/lib/python3.10/dist-packages/starlette/routing.py\", line 718, in __call__\n",
            "    await route.handle(scope, receive, send)\n",
            "  File \"/usr/local/lib/python3.10/dist-packages/starlette/routing.py\", line 276, in handle\n",
            "    await self.app(scope, receive, send)\n",
            "  File \"/usr/local/lib/python3.10/dist-packages/starlette/routing.py\", line 66, in app\n",
            "    response = await func(request)\n",
            "  File \"/usr/local/lib/python3.10/dist-packages/fastapi/routing.py\", line 237, in app\n",
            "    raw_response = await run_endpoint_function(\n",
            "  File \"/usr/local/lib/python3.10/dist-packages/fastapi/routing.py\", line 163, in run_endpoint_function\n",
            "    return await dependant.call(**values)\n",
            "  File \"<ipython-input-8-63cc79ecf4f8>\", line 48, in serve_homepage\n",
            "    return templates.TemplateResponse(\"index.html\", {\"request\": request})\n",
            "  File \"/usr/local/lib/python3.10/dist-packages/starlette/templating.py\", line 112, in TemplateResponse\n",
            "    template = self.get_template(name)\n",
            "  File \"/usr/local/lib/python3.10/dist-packages/starlette/templating.py\", line 94, in get_template\n",
            "    return self.env.get_template(name)\n",
            "  File \"/usr/local/lib/python3.10/dist-packages/jinja2/environment.py\", line 1010, in get_template\n",
            "    return self._load_template(name, globals)\n",
            "  File \"/usr/local/lib/python3.10/dist-packages/jinja2/environment.py\", line 969, in _load_template\n",
            "    template = self.loader.load(self, name, self.make_globals(globals))\n",
            "  File \"/usr/local/lib/python3.10/dist-packages/jinja2/loaders.py\", line 126, in load\n",
            "    source, filename, uptodate = self.get_source(environment, name)\n",
            "  File \"/usr/local/lib/python3.10/dist-packages/jinja2/loaders.py\", line 218, in get_source\n",
            "    raise TemplateNotFound(template)\n",
            "jinja2.exceptions.TemplateNotFound: index.html\n"
          ]
        },
        {
          "name": "stdout",
          "output_type": "stream",
          "text": [
            "INFO:     58.187.203.196:0 - \"GET /favicon.ico HTTP/1.1\" 404 Not Found\n",
            "INFO:     58.187.203.196:0 - \"GET / HTTP/1.1\" 200 OK\n",
            "RandomForest Classifier - Accuracy: 0.925531914893617\n",
            "INFO:     58.187.203.196:0 - \"POST /train HTTP/1.1\" 200 OK\n",
            "INFO:     58.187.203.196:0 - \"GET / HTTP/1.1\" 200 OK\n",
            "Received form data: {'baseline_value': 1231.0, 'accelerations': 12312.0, 'fetal_movement': 121.0, 'uterine_contractions': 1.0, 'light_decelerations': 1.0, 'severe_decelerations': 1.0, 'prolongued_decelerations': 1.0, 'abnormal_short_term_variability': 1.0, 'mean_value_of_short_term_variability': 1.0, 'percentage_of_time_with_abnormal_long_term_variability': 1.0, 'mean_value_of_long_term_variability': 1.0, 'histogram_width': 1.0, 'histogram_min': 1.0, 'histogram_max': 1.0, 'histogram_number_of_peaks': 1.0, 'histogram_number_of_zeroes': 1.0, 'histogram_mode': 1.0, 'histogram_mean': 1.0, 'histogram_median': 1.0, 'histogram_variance': 1.0, 'histogram_tendency': 1.0}\n",
            "Input dataframe:    baseline_value  accelerations  fetal_movement  uterine_contractions  \\\n",
            "0          1231.0        12312.0           121.0                   1.0   \n",
            "\n",
            "   light_decelerations  severe_decelerations  prolongued_decelerations  \\\n",
            "0                  1.0                   1.0                       1.0   \n",
            "\n",
            "   abnormal_short_term_variability  mean_value_of_short_term_variability  \\\n",
            "0                              1.0                                   1.0   \n",
            "\n",
            "   percentage_of_time_with_abnormal_long_term_variability  ...  \\\n",
            "0                                                1.0       ...   \n",
            "\n",
            "   histogram_width  histogram_min  histogram_max  histogram_number_of_peaks  \\\n",
            "0              1.0            1.0            1.0                        1.0   \n",
            "\n",
            "   histogram_number_of_zeroes  histogram_mode  histogram_mean  \\\n",
            "0                         1.0             1.0             1.0   \n",
            "\n",
            "   histogram_median  histogram_variance  histogram_tendency  \n",
            "0               1.0                 1.0                 1.0  \n",
            "\n",
            "[1 rows x 21 columns]\n",
            "INFO:     58.187.203.196:0 - \"POST /predict HTTP/1.1\" 200 OK\n",
            "INFO:     58.187.203.196:0 - \"GET / HTTP/1.1\" 200 OK\n",
            "INFO:     2a03:2880:10ff:78::face:b00c:0 - \"GET / HTTP/1.1\" 200 OK\n",
            "INFO:     2a03:2880:27ff:8::face:b00c:0 - \"GET / HTTP/1.1\" 200 OK\n",
            "INFO:     58.187.203.196:0 - \"GET / HTTP/1.1\" 200 OK\n",
            "RandomForest Classifier - Accuracy: 0.925531914893617\n",
            "INFO:     58.187.203.196:0 - \"POST /train HTTP/1.1\" 200 OK\n",
            "INFO:     58.187.203.196:0 - \"GET / HTTP/1.1\" 200 OK\n",
            "RandomForest Classifier - Accuracy: 0.925531914893617\n",
            "INFO:     58.187.203.196:0 - \"POST /train HTTP/1.1\" 200 OK\n",
            "INFO:     58.187.203.196:0 - \"GET / HTTP/1.1\" 200 OK\n",
            "RandomForest Classifier - Accuracy: 0.925531914893617\n",
            "INFO:     58.187.203.196:0 - \"POST /train HTTP/1.1\" 200 OK\n",
            "INFO:     58.187.203.196:0 - \"GET / HTTP/1.1\" 200 OK\n",
            "Received form data: {'baseline_value': 150.0, 'accelerations': 0.0, 'fetal_movement': 0.0, 'uterine_contractions': 0.001, 'light_decelerations': 0.001, 'severe_decelerations': 0.0, 'prolongued_decelerations': 0.0, 'abnormal_short_term_variability': 64.0, 'mean_value_of_short_term_variability': 2.0, 'percentage_of_time_with_abnormal_long_term_variability': 8.0, 'mean_value_of_long_term_variability': 29.5, 'histogram_width': 130.0, 'histogram_min': 56.0, 'histogram_max': 186.0, 'histogram_number_of_peaks': 5.0, 'histogram_number_of_zeroes': 0.0, 'histogram_mode': 150.0, 'histogram_mean': 148.0, 'histogram_median': 151.0, 'histogram_variance': 10.0, 'histogram_tendency': 1.0}\n",
            "Input dataframe:    baseline_value  accelerations  fetal_movement  uterine_contractions  \\\n",
            "0           150.0            0.0             0.0                 0.001   \n",
            "\n",
            "   light_decelerations  severe_decelerations  prolongued_decelerations  \\\n",
            "0                0.001                   0.0                       0.0   \n",
            "\n",
            "   abnormal_short_term_variability  mean_value_of_short_term_variability  \\\n",
            "0                             64.0                                   2.0   \n",
            "\n",
            "   percentage_of_time_with_abnormal_long_term_variability  ...  \\\n",
            "0                                                8.0       ...   \n",
            "\n",
            "   histogram_width  histogram_min  histogram_max  histogram_number_of_peaks  \\\n",
            "0            130.0           56.0          186.0                        5.0   \n",
            "\n",
            "   histogram_number_of_zeroes  histogram_mode  histogram_mean  \\\n",
            "0                         0.0           150.0           148.0   \n",
            "\n",
            "   histogram_median  histogram_variance  histogram_tendency  \n",
            "0             151.0                10.0                 1.0  \n",
            "\n",
            "[1 rows x 21 columns]\n",
            "INFO:     58.187.203.196:0 - \"POST /predict HTTP/1.1\" 200 OK\n",
            "INFO:     58.187.203.196:0 - \"GET / HTTP/1.1\" 200 OK\n"
          ]
        }
      ],
      "source": [
        "import nest_asyncio\n",
        "from pyngrok import ngrok\n",
        "import uvicorn\n",
        "\n",
        "from fastapi.responses import HTMLResponse\n",
        "from fastapi.staticfiles import StaticFiles\n",
        "from fastapi.templating import Jinja2Templates\n",
        "from pydantic import BaseModel\n",
        "import pandas as pd\n",
        "from typing import List\n",
        "\n",
        "from fastapi import FastAPI, HTTPException, Request, Form, Depends\n",
        "from fastapi.responses import JSONResponse\n",
        "from fastapi.encoders import jsonable_encoder\n",
        "\n",
        "# Import your PySpark ML model and preprocessing functions here\n",
        "from pyspark.sql import functions as F\n",
        "from pyspark.ml.feature import StringIndexer, VectorAssembler, StandardScaler\n",
        "from pyspark.ml import Pipeline\n",
        "from pyspark.sql.types import DoubleType\n",
        "from pyspark.ml.feature import Imputer\n",
        "from pyspark.ml.tuning import TrainValidationSplit\n",
        "from pyspark.ml.classification import RandomForestClassifier\n",
        "from pyspark.sql import SparkSession\n",
        "from pyspark.ml import Pipeline, PipelineModel\n",
        "\n",
        "app = FastAPI()\n",
        "\n",
        "# enable CORS\n",
        "from fastapi.middleware.cors import CORSMiddleware\n",
        "app.add_middleware(\n",
        "    CORSMiddleware,\n",
        "    allow_origins=[\"*\"],\n",
        "    allow_credentials=True,\n",
        "    allow_methods=[\"*\"],\n",
        "    allow_headers=[\"*\"],\n",
        "    expose_headers=[\"*\"],\n",
        ")\n",
        "\n",
        "\n",
        "# Add the following line to mount static files\n",
        "# app.mount(\"/static\", StaticFiles(directory=\"static\"), name=\"static\")\n",
        "\n",
        "templates = Jinja2Templates(directory=\"templates\")\n",
        "\n",
        "@app.get(\"/\", response_class=HTMLResponse)\n",
        "async def serve_homepage(request: Request):\n",
        "    return templates.TemplateResponse(\"index.html\", {\"request\": request})\n",
        "\n",
        "\n",
        "spark = SparkSession.builder \\\n",
        "    .appName(\"Fetal Health Prediction\") \\\n",
        "    .config(\"spark.driver.memory\", \"4g\") \\\n",
        "    .config(\"spark.executor.memory\", \"4g\") \\\n",
        "    .config(\"spark.python.worker.memory\", \"2g\") \\\n",
        "    .getOrCreate()\n",
        "\n",
        "\n",
        "data = spark.read.csv(\"/content/fetal_health.csv\", header=True, inferSchema=True)\n",
        "\n",
        "# Handle missing values (if any)\n",
        "imputer = Imputer(strategy='mean', inputCols=data.columns, outputCols=data.columns)\n",
        "data = imputer.fit(data).transform(data)\n",
        "\n",
        "# Assemble features into a single vector\n",
        "feature_columns = data.columns[:-1]\n",
        "assembler = VectorAssembler(inputCols=feature_columns, outputCol=\"features\")\n",
        "\n",
        "# feature scaling\n",
        "scaler = StandardScaler(inputCol=\"features\", outputCol=\"scaled_features\")\n",
        "\n",
        "# Create pipeline for preprocessing\n",
        "pipeline = Pipeline(stages=[assembler, scaler])\n",
        "\n",
        "# Fit the pipeline and transform the data\n",
        "preprocessing_pipeline_model = pipeline.fit(data)\n",
        "preprocessed_data = preprocessing_pipeline_model.transform(data) #Just got this fixed up\n",
        "\n",
        "\n",
        "# Split the dataset into training and testing sets\n",
        "train_data, test_data = preprocessed_data.randomSplit([0.8, 0.2], seed=42)\n",
        "\n",
        "# Create a RandomForest model\n",
        "rf = RandomForestClassifier(labelCol=\"fetal_health\", featuresCol=\"scaled_features\", numTrees=100, seed=42)\n",
        "\n",
        "# Define input data schema\n",
        "class InputData(BaseModel):\n",
        "    baseline_value: float\n",
        "    accelerations: float\n",
        "    fetal_movement: float\n",
        "    uterine_contractions: float\n",
        "    light_decelerations: float\n",
        "    severe_decelerations: float\n",
        "    prolongued_decelerations: float\n",
        "    abnormal_short_term_variability: float\n",
        "    mean_value_of_short_term_variability: float\n",
        "    percentage_of_time_with_abnormal_long_term_variability: float\n",
        "    mean_value_of_long_term_variability: float\n",
        "    histogram_width: float\n",
        "    histogram_min: float\n",
        "    histogram_max: float\n",
        "    histogram_number_of_peaks: float\n",
        "    histogram_number_of_zeroes: float\n",
        "    histogram_mode: float\n",
        "    histogram_mean: float\n",
        "    histogram_median: float\n",
        "    histogram_variance: float\n",
        "    histogram_tendency: float\n",
        "\n",
        "trained_model = None\n",
        "accuracy_result = None\n",
        "\n",
        "@app.get(\"/\", response_class=HTMLResponse)\n",
        "async def serve_homepage(request: Request):\n",
        "    return templates.TemplateResponse(\"index.html\", {\"request\": request, \"accuracy\": accuracy_result})\n",
        "\n",
        "@app.post(\"/train\")\n",
        "async def train_model(request: Request):\n",
        "    global trained_model, accuracy_result\n",
        "    # Load the dataset, preprocess, and train the model\n",
        "    from pyspark.ml.classification import RandomForestClassifier\n",
        "    from pyspark.ml import Pipeline\n",
        "    from pyspark.ml.evaluation import MulticlassClassificationEvaluator\n",
        "\n",
        "    # Create a RandomForest model\n",
        "    rf = RandomForestClassifier(labelCol=\"fetal_health\", featuresCol=\"scaled_features\", numTrees=100, seed=42)\n",
        "\n",
        "    # Update the pipelines without assembler and scaler stages\n",
        "    rf_pipeline = Pipeline(stages=[rf])\n",
        "\n",
        "    # Train the models\n",
        "    trained_model = rf_pipeline.fit(train_data)\n",
        "\n",
        "    evaluator = MulticlassClassificationEvaluator(labelCol=\"fetal_health\", predictionCol=\"prediction\")\n",
        "    rf_accuracy = evaluator.evaluate(trained_model.transform(test_data), {evaluator.metricName: \"accuracy\"})\n",
        "\n",
        "    accuracy_result = rf_accuracy\n",
        "\n",
        "    print(\"RandomForest Classifier - Accuracy:\", rf_accuracy)\n",
        "\n",
        "    trained_model.write().overwrite().save(\"fetal_health_prediction_model\")\n",
        "\n",
        "    # return {\"status\": \"Model trained successfully\", \"accuracy\": rf_accuracy}\n",
        "    return templates.TemplateResponse(\"result.html\", {\"request\": request, \"status\": \"Model trained successfully: ✅\", \"accuracy\": rf_accuracy})\n",
        "\n",
        "@app.post(\"/predict\", response_class=JSONResponse)\n",
        "async def predict(request: Request,\n",
        "    baseline_value : float = Form(...),\n",
        "    accelerations: float = Form(...),\n",
        "    fetal_movement: float = Form(...),\n",
        "    uterine_contractions: float = Form(...),\n",
        "    light_decelerations: float = Form(...),\n",
        "    severe_decelerations: float = Form(...),\n",
        "    prolongued_decelerations: float = Form(...),\n",
        "    abnormal_short_term_variability: float = Form(...),\n",
        "    mean_value_of_short_term_variability: float = Form(...),\n",
        "    percentage_of_time_with_abnormal_long_term_variability: float = Form(...),\n",
        "    mean_value_of_long_term_variability: float = Form(...),\n",
        "    histogram_width: float = Form(...),\n",
        "    histogram_min: float = Form(...),\n",
        "    histogram_max: float = Form(...),\n",
        "    histogram_number_of_peaks: float = Form(...),\n",
        "    histogram_number_of_zeroes: float = Form(...),\n",
        "    histogram_mode: float = Form(...),\n",
        "    histogram_mean: float = Form(...),\n",
        "    histogram_median: float = Form(...),\n",
        "    histogram_variance: float = Form(...),\n",
        "    histogram_tendency: float = Form(...)\n",
        "):\n",
        "    global trained_model\n",
        "    if not trained_model:\n",
        "        raise HTTPException(status_code=400, detail=\"Model not trained. Please train the model first.\")\n",
        "\n",
        "    input_data = {\n",
        "        \"baseline_value\": baseline_value,\n",
        "        \"accelerations\": accelerations,\n",
        "        \"fetal_movement\": fetal_movement,\n",
        "        \"uterine_contractions\": uterine_contractions,\n",
        "        \"light_decelerations\": light_decelerations,\n",
        "        \"severe_decelerations\": severe_decelerations,\n",
        "        \"prolongued_decelerations\": prolongued_decelerations,\n",
        "        \"abnormal_short_term_variability\": abnormal_short_term_variability,\n",
        "        \"mean_value_of_short_term_variability\": mean_value_of_short_term_variability,\n",
        "        \"percentage_of_time_with_abnormal_long_term_variability\": percentage_of_time_with_abnormal_long_term_variability,\n",
        "        \"mean_value_of_long_term_variability\": mean_value_of_long_term_variability,\n",
        "        \"histogram_width\": histogram_width,\n",
        "        \"histogram_min\": histogram_min,\n",
        "        \"histogram_max\": histogram_max,\n",
        "        \"histogram_number_of_peaks\": histogram_number_of_peaks,\n",
        "        \"histogram_number_of_zeroes\": histogram_number_of_zeroes,\n",
        "        \"histogram_mode\": histogram_mode,\n",
        "        \"histogram_mean\": histogram_mean,\n",
        "        \"histogram_median\": histogram_median,\n",
        "        \"histogram_variance\": histogram_variance,\n",
        "        \"histogram_tendency\": histogram_tendency\n",
        "    }\n",
        "\n",
        "    print(\"Received form data:\", {\n",
        "        \"baseline_value\": baseline_value,\n",
        "        \"accelerations\": accelerations,\n",
        "        \"fetal_movement\": fetal_movement,\n",
        "        \"uterine_contractions\": uterine_contractions,\n",
        "        \"light_decelerations\": light_decelerations,\n",
        "        \"severe_decelerations\": severe_decelerations,\n",
        "        \"prolongued_decelerations\": prolongued_decelerations,\n",
        "        \"abnormal_short_term_variability\": abnormal_short_term_variability,\n",
        "        \"mean_value_of_short_term_variability\": mean_value_of_short_term_variability,\n",
        "        \"percentage_of_time_with_abnormal_long_term_variability\": percentage_of_time_with_abnormal_long_term_variability,\n",
        "        \"mean_value_of_long_term_variability\": mean_value_of_long_term_variability,\n",
        "        \"histogram_width\": histogram_width,\n",
        "        \"histogram_min\": histogram_min,\n",
        "        \"histogram_max\": histogram_max,\n",
        "        \"histogram_number_of_peaks\": histogram_number_of_peaks,\n",
        "        \"histogram_number_of_zeroes\": histogram_number_of_zeroes,\n",
        "        \"histogram_mode\": histogram_mode,\n",
        "        \"histogram_mean\": histogram_mean,\n",
        "        \"histogram_median\": histogram_median,\n",
        "        \"histogram_variance\": histogram_variance,\n",
        "        \"histogram_tendency\": histogram_tendency\n",
        "    })\n",
        "\n",
        "\n",
        "    # Preprocess the input data and make predictions\n",
        "    input_df = pd.DataFrame([input_data])\n",
        "    input_spark_df = spark.createDataFrame(input_df)\n",
        "\n",
        "    preprocessed_input = preprocessing_pipeline_model.transform(input_spark_df)\n",
        "\n",
        "    # Make predictions using the trained model\n",
        "    predictions = trained_model.transform(preprocessed_input)\n",
        "\n",
        "    # Collect the predictions\n",
        "    prediction_result = predictions.collect()\n",
        "\n",
        "    # Extract the predicted labels\n",
        "    predicted_labels = [result[\"prediction\"] for result in prediction_result]\n",
        "\n",
        "    print(\"Input dataframe:\", input_df)\n",
        "\n",
        "    # return {\"predictions\": predicted_labels[0]}\n",
        "    if predicted_labels[0]==1:\n",
        "      predicted_labels = \"Normal ✅\"\n",
        "    elif predicted_labels[0]==2:\n",
        "      predicted_labels = \"Suspicious 🤷‍♂️\"\n",
        "    else:\n",
        "      predicted_labels = \"Pathological 💀\"\n",
        "    return templates.TemplateResponse(\"predict.html\", {\"request\": request, \"prediction_result\": predicted_labels})\n",
        "\n",
        "ngrok_tunnel = ngrok.connect(8000)\n",
        "print('Public URL:', ngrok_tunnel.public_url)\n",
        "nest_asyncio.apply()\n",
        "uvicorn.run(app, port=8000)"
      ]
    }
  ],
  "metadata": {
    "colab": {
      "provenance": []
    },
    "kernelspec": {
      "display_name": "Python 3",
      "name": "python3"
    },
    "language_info": {
      "name": "python"
    }
  },
  "nbformat": 4,
  "nbformat_minor": 0
}
